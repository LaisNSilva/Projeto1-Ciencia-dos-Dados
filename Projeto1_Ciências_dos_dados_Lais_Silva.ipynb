{
 "cells": [
  {
   "cell_type": "markdown",
   "metadata": {},
   "source": [
    "# Projeto 1 - Ciência dos dado\n",
    "\n",
    "**Lais Nascimento da Silva | 2B engenharia**\n",
    "\n",
    "**Pergunta**:\n",
    "Analisando dados de países que são da Organização Internacional do Trabalho, observa-se uma queda maior da taxa de trabalho infantil, em países que tem infraentrutura para implementarem as políticas exigidas nas normas internacionais da OIT? A queda na taxa de trabalho infantil influência as taxas de alfabetização?\n",
    "\n",
    "**Hipótese**:\n",
    "A Organização Internacional do Trabalho (OIT), tem como um de seus principais objetivos erradicar o trabalho infantil, dessa maneira, a OIT age com o intuito de atingir esse objetivo, então motivam, na maioria das vezes, os países membros a adotarem a legislação que proíbe ou impõe severas restrições ao trabalho infantil . O trabalho infantil na maioria das vezes priva as crianças de frenquentar a escola e desse modo, menos crianças se alfabetizam. Portanto, a hipótese analisada será de que quando um país consegue colocara legislação em prática as taxas de trabalho infantil caem de maneira mais intensa e consequentemente as taxas de alfabetização aumentam, pois as crianças poderão frenquentar a escola regurlamente.\n",
    "\n",
    "link OIT e trabalho infantil: \n",
    "https://www.ilo.org/brasilia/temas/trabalho-infantil/lang--pt/index.htm\n",
    "\n",
    "https://www.ilo.org/global/docs/WCMS_714085/lang--en/index.htm\n",
    "\n",
    "https://www.ilo.org/brasilia/temas/trabalho-infantil/WCMS_565224/lang--pt/index.htm\n",
    "\n",
    "\n",
    "\n",
    "## Taxas de trabalho infantil, Taxas de analfabetização\n",
    "\n",
    "Os dados foram tirados do site: https://www.gapminder.org/data/\n",
    "\n",
    "## Leitura de dados:\n"
   ]
  },
  {
   "cell_type": "code",
   "execution_count": 1,
   "metadata": {},
   "outputs": [],
   "source": [
    "%matplotlib inline\n",
    "import pandas as pd\n",
    "import numpy as np\n",
    "import math as math\n",
    "import matplotlib.pyplot as plt"
   ]
  },
  {
   "cell_type": "code",
   "execution_count": 2,
   "metadata": {},
   "outputs": [
    {
     "data": {
      "text/plain": [
       "'C:\\\\Users\\\\User\\\\Desktop\\\\2ºsemestre\\\\Ciência dos dados\\\\Projeto1_Ciencia_dos_Dados'"
      ]
     },
     "execution_count": 2,
     "metadata": {},
     "output_type": "execute_result"
    }
   ],
   "source": [
    "import os\n",
    "\n",
    "os.getcwd()\n"
   ]
  },
  {
   "cell_type": "code",
   "execution_count": 3,
   "metadata": {},
   "outputs": [],
   "source": [
    "#Leitura dos arquivos em Excel\n",
    "trab_inf= pd.read_excel('trab_infantil.xlsx')\n",
    "alfab = pd.read_excel('alfabetizacao.xlsx')"
   ]
  },
  {
   "cell_type": "markdown",
   "metadata": {},
   "source": [
    "\n",
    "\n",
    "\n",
    "### Tabela Taxas de trabalho infantil\n",
    "\n",
    "A tabela apresenta as taxas de trabalho infantil em cada país entre os anos de 1994 e 2016"
   ]
  },
  {
   "cell_type": "code",
   "execution_count": 4,
   "metadata": {},
   "outputs": [
    {
     "data": {
      "text/html": [
       "<div>\n",
       "<style scoped>\n",
       "    .dataframe tbody tr th:only-of-type {\n",
       "        vertical-align: middle;\n",
       "    }\n",
       "\n",
       "    .dataframe tbody tr th {\n",
       "        vertical-align: top;\n",
       "    }\n",
       "\n",
       "    .dataframe thead th {\n",
       "        text-align: right;\n",
       "    }\n",
       "</style>\n",
       "<table border=\"1\" class=\"dataframe\">\n",
       "  <thead>\n",
       "    <tr style=\"text-align: right;\">\n",
       "      <th></th>\n",
       "      <th>country</th>\n",
       "      <th>1994</th>\n",
       "      <th>1995</th>\n",
       "      <th>1996</th>\n",
       "      <th>1997</th>\n",
       "      <th>1998</th>\n",
       "      <th>1999</th>\n",
       "      <th>2000</th>\n",
       "      <th>2001</th>\n",
       "      <th>2002</th>\n",
       "      <th>...</th>\n",
       "      <th>2007</th>\n",
       "      <th>2008</th>\n",
       "      <th>2009</th>\n",
       "      <th>2010</th>\n",
       "      <th>2011</th>\n",
       "      <th>2012</th>\n",
       "      <th>2013</th>\n",
       "      <th>2014</th>\n",
       "      <th>2015</th>\n",
       "      <th>2016</th>\n",
       "    </tr>\n",
       "  </thead>\n",
       "  <tbody>\n",
       "    <tr>\n",
       "      <th>0</th>\n",
       "      <td>Afghanistan</td>\n",
       "      <td>NaN</td>\n",
       "      <td>NaN</td>\n",
       "      <td>NaN</td>\n",
       "      <td>NaN</td>\n",
       "      <td>NaN</td>\n",
       "      <td>NaN</td>\n",
       "      <td>NaN</td>\n",
       "      <td>NaN</td>\n",
       "      <td>NaN</td>\n",
       "      <td>...</td>\n",
       "      <td>NaN</td>\n",
       "      <td>NaN</td>\n",
       "      <td>NaN</td>\n",
       "      <td>NaN</td>\n",
       "      <td>9.3</td>\n",
       "      <td>NaN</td>\n",
       "      <td>NaN</td>\n",
       "      <td>NaN</td>\n",
       "      <td>NaN</td>\n",
       "      <td>NaN</td>\n",
       "    </tr>\n",
       "    <tr>\n",
       "      <th>1</th>\n",
       "      <td>Albania</td>\n",
       "      <td>NaN</td>\n",
       "      <td>NaN</td>\n",
       "      <td>NaN</td>\n",
       "      <td>NaN</td>\n",
       "      <td>NaN</td>\n",
       "      <td>NaN</td>\n",
       "      <td>36.6</td>\n",
       "      <td>NaN</td>\n",
       "      <td>NaN</td>\n",
       "      <td>...</td>\n",
       "      <td>NaN</td>\n",
       "      <td>NaN</td>\n",
       "      <td>NaN</td>\n",
       "      <td>5.5</td>\n",
       "      <td>NaN</td>\n",
       "      <td>NaN</td>\n",
       "      <td>NaN</td>\n",
       "      <td>NaN</td>\n",
       "      <td>NaN</td>\n",
       "      <td>NaN</td>\n",
       "    </tr>\n",
       "    <tr>\n",
       "      <th>2</th>\n",
       "      <td>Algeria</td>\n",
       "      <td>NaN</td>\n",
       "      <td>NaN</td>\n",
       "      <td>NaN</td>\n",
       "      <td>NaN</td>\n",
       "      <td>NaN</td>\n",
       "      <td>NaN</td>\n",
       "      <td>NaN</td>\n",
       "      <td>NaN</td>\n",
       "      <td>NaN</td>\n",
       "      <td>...</td>\n",
       "      <td>NaN</td>\n",
       "      <td>NaN</td>\n",
       "      <td>NaN</td>\n",
       "      <td>NaN</td>\n",
       "      <td>NaN</td>\n",
       "      <td>NaN</td>\n",
       "      <td>7.5</td>\n",
       "      <td>NaN</td>\n",
       "      <td>NaN</td>\n",
       "      <td>NaN</td>\n",
       "    </tr>\n",
       "  </tbody>\n",
       "</table>\n",
       "<p>3 rows × 24 columns</p>\n",
       "</div>"
      ],
      "text/plain": [
       "       country  1994  1995  1996  1997  1998  1999  2000  2001  2002  ...   \\\n",
       "0  Afghanistan   NaN   NaN   NaN   NaN   NaN   NaN   NaN   NaN   NaN  ...    \n",
       "1      Albania   NaN   NaN   NaN   NaN   NaN   NaN  36.6   NaN   NaN  ...    \n",
       "2      Algeria   NaN   NaN   NaN   NaN   NaN   NaN   NaN   NaN   NaN  ...    \n",
       "\n",
       "   2007  2008  2009  2010  2011  2012  2013  2014  2015  2016  \n",
       "0   NaN   NaN   NaN   NaN   9.3   NaN   NaN   NaN   NaN   NaN  \n",
       "1   NaN   NaN   NaN   5.5   NaN   NaN   NaN   NaN   NaN   NaN  \n",
       "2   NaN   NaN   NaN   NaN   NaN   NaN   7.5   NaN   NaN   NaN  \n",
       "\n",
       "[3 rows x 24 columns]"
      ]
     },
     "execution_count": 4,
     "metadata": {},
     "output_type": "execute_result"
    }
   ],
   "source": [
    "#Tabela de trabalho infantil nos países em cada ano\n",
    "\n",
    "trab_inf.head(3)"
   ]
  },
  {
   "cell_type": "markdown",
   "metadata": {},
   "source": [
    "### Tabela Taxas de analfabetização\n",
    "\n",
    "A tabela apresenta as taxas de analfabetização em vários países entre os 1970 e 2018"
   ]
  },
  {
   "cell_type": "code",
   "execution_count": 5,
   "metadata": {},
   "outputs": [
    {
     "data": {
      "text/html": [
       "<div>\n",
       "<style scoped>\n",
       "    .dataframe tbody tr th:only-of-type {\n",
       "        vertical-align: middle;\n",
       "    }\n",
       "\n",
       "    .dataframe tbody tr th {\n",
       "        vertical-align: top;\n",
       "    }\n",
       "\n",
       "    .dataframe thead th {\n",
       "        text-align: right;\n",
       "    }\n",
       "</style>\n",
       "<table border=\"1\" class=\"dataframe\">\n",
       "  <thead>\n",
       "    <tr style=\"text-align: right;\">\n",
       "      <th></th>\n",
       "      <th>country</th>\n",
       "      <th>1970</th>\n",
       "      <th>1971</th>\n",
       "      <th>1972</th>\n",
       "      <th>1973</th>\n",
       "      <th>1974</th>\n",
       "      <th>1975</th>\n",
       "      <th>1976</th>\n",
       "      <th>1977</th>\n",
       "      <th>1978</th>\n",
       "      <th>...</th>\n",
       "      <th>2009</th>\n",
       "      <th>2010</th>\n",
       "      <th>2011</th>\n",
       "      <th>2012</th>\n",
       "      <th>2013</th>\n",
       "      <th>2014</th>\n",
       "      <th>2015</th>\n",
       "      <th>2016</th>\n",
       "      <th>2017</th>\n",
       "      <th>2018</th>\n",
       "    </tr>\n",
       "  </thead>\n",
       "  <tbody>\n",
       "    <tr>\n",
       "      <th>0</th>\n",
       "      <td>Afghanistan</td>\n",
       "      <td>NaN</td>\n",
       "      <td>NaN</td>\n",
       "      <td>NaN</td>\n",
       "      <td>NaN</td>\n",
       "      <td>72.9</td>\n",
       "      <td>NaN</td>\n",
       "      <td>NaN</td>\n",
       "      <td>NaN</td>\n",
       "      <td>NaN</td>\n",
       "      <td>...</td>\n",
       "      <td>NaN</td>\n",
       "      <td>NaN</td>\n",
       "      <td>NaN</td>\n",
       "      <td>NaN</td>\n",
       "      <td>NaN</td>\n",
       "      <td>NaN</td>\n",
       "      <td>NaN</td>\n",
       "      <td>NaN</td>\n",
       "      <td>NaN</td>\n",
       "      <td>NaN</td>\n",
       "    </tr>\n",
       "    <tr>\n",
       "      <th>1</th>\n",
       "      <td>Albania</td>\n",
       "      <td>NaN</td>\n",
       "      <td>NaN</td>\n",
       "      <td>NaN</td>\n",
       "      <td>NaN</td>\n",
       "      <td>NaN</td>\n",
       "      <td>NaN</td>\n",
       "      <td>NaN</td>\n",
       "      <td>NaN</td>\n",
       "      <td>NaN</td>\n",
       "      <td>...</td>\n",
       "      <td>14.30</td>\n",
       "      <td>13.70</td>\n",
       "      <td>12.800</td>\n",
       "      <td>9.530</td>\n",
       "      <td>5.63</td>\n",
       "      <td>3.84</td>\n",
       "      <td>4.400</td>\n",
       "      <td>4.340</td>\n",
       "      <td>2.940</td>\n",
       "      <td>NaN</td>\n",
       "    </tr>\n",
       "    <tr>\n",
       "      <th>2</th>\n",
       "      <td>Algeria</td>\n",
       "      <td>NaN</td>\n",
       "      <td>NaN</td>\n",
       "      <td>NaN</td>\n",
       "      <td>32.5</td>\n",
       "      <td>28.6</td>\n",
       "      <td>26.2</td>\n",
       "      <td>24.2</td>\n",
       "      <td>22.6</td>\n",
       "      <td>21.6</td>\n",
       "      <td>...</td>\n",
       "      <td>1.03</td>\n",
       "      <td>1.11</td>\n",
       "      <td>0.949</td>\n",
       "      <td>0.889</td>\n",
       "      <td>NaN</td>\n",
       "      <td>NaN</td>\n",
       "      <td>0.733</td>\n",
       "      <td>0.769</td>\n",
       "      <td>0.557</td>\n",
       "      <td>NaN</td>\n",
       "    </tr>\n",
       "  </tbody>\n",
       "</table>\n",
       "<p>3 rows × 50 columns</p>\n",
       "</div>"
      ],
      "text/plain": [
       "       country  1970  1971  1972  1973  1974  1975  1976  1977  1978  ...   \\\n",
       "0  Afghanistan   NaN   NaN   NaN   NaN  72.9   NaN   NaN   NaN   NaN  ...    \n",
       "1      Albania   NaN   NaN   NaN   NaN   NaN   NaN   NaN   NaN   NaN  ...    \n",
       "2      Algeria   NaN   NaN   NaN  32.5  28.6  26.2  24.2  22.6  21.6  ...    \n",
       "\n",
       "    2009   2010    2011   2012  2013  2014   2015   2016   2017  2018  \n",
       "0    NaN    NaN     NaN    NaN   NaN   NaN    NaN    NaN    NaN   NaN  \n",
       "1  14.30  13.70  12.800  9.530  5.63  3.84  4.400  4.340  2.940   NaN  \n",
       "2   1.03   1.11   0.949  0.889   NaN   NaN  0.733  0.769  0.557   NaN  \n",
       "\n",
       "[3 rows x 50 columns]"
      ]
     },
     "execution_count": 5,
     "metadata": {},
     "output_type": "execute_result"
    }
   ],
   "source": [
    "#tabela de taxa de analfabetização em cada país por ano\n",
    "\n",
    "alfab.head(3)"
   ]
  },
  {
   "cell_type": "markdown",
   "metadata": {},
   "source": [
    "**Grupos Analisados**\n",
    "\n",
    "Dentre os países que estão nas tabelas de taxa de trabalho infantil e taxa de analfabetização, a maioria está dentro do Organização, os poucos que não são membros, não têm dados suficientes para o estudo.\n",
    "Portanto a separação será em dois grupos, divididos a partir de dados do relatório do OIT, a partir de informações referentes a pobreza e infraestrutura (indicada pela cobertura de saúde).\n",
    "A seleção foi feita de acordo com o seguinte gráfico:\n",
    "\n",
    "retatório: https://www.ilo.org/wcmsp5/groups/public/---dgreports/---dcomm/documents/publication/wcms_243961.pdf"
   ]
  },
  {
   "cell_type": "markdown",
   "metadata": {},
   "source": [
    "<img src=referenciapaises.png width=\"650\">"
   ]
  },
  {
   "cell_type": "markdown",
   "metadata": {},
   "source": [
    "Os dados que serão analisados serão dos anos de 2006 e 2012, pois estavam faltando dados e esses dois anos estavam mais completos"
   ]
  },
  {
   "cell_type": "markdown",
   "metadata": {},
   "source": [
    "# Análise dados de 2006"
   ]
  },
  {
   "cell_type": "markdown",
   "metadata": {},
   "source": [
    "As listas a baixo separam os dois grupos que serão analisados para os países que estão na tabela de trabalho infantil, considerando os membros da OIT no ano 2006"
   ]
  },
  {
   "cell_type": "code",
   "execution_count": 6,
   "metadata": {},
   "outputs": [],
   "source": [
    "TI_bons_2006=['Afghanistan', 'Angola', 'Argentina', 'Armenia', 'Bangladesh', 'Belarus', 'Bosnia and Herzegovina', 'Brazil', 'Chad', 'Chile', 'Colombia', 'Congo, Dem. Rep.', 'Congo, Rep.', 'Costa Rica', 'Dominican Republic', 'Egypt', 'Gabon', 'Guinea', 'Haiti', 'Iraq', 'Jordan', 'Kazakhstan', 'Malawi', 'Mexico', 'Moldova', 'Morocco', 'Mozambique', 'Panama', 'Paraguay', 'Peru', 'Portugal', 'Romania', 'Serbia', 'Sierra Leone', 'Somalia', 'Sri Lanka', 'Tanzania', 'Thailand', 'Togo', 'Trinidad and Tobago', 'Timor-Leste', 'Tunisia', 'Turkey', 'Ukraine', 'Uruguay', 'Uzbekistan', 'Venezuela', 'Zimbabwe']\n",
    "TI_ruins_2006=['Zambia', 'Azerbaijan', 'Algeria', 'Albania', 'Benin', 'Burundi', 'Bolivia', 'Burkina Faso', \"Cote d'Ivoire\", 'Cambodia', 'Cameroon', 'Central African Republic', 'El Salvador', 'Ecuador', 'Ethiopia', 'Ghana', 'Gambia', 'Georgia', 'Guinea-Bissau', 'Guatemala', 'Honduras', 'India', 'Indonesia', 'Jamaica', 'Kenya', 'Lao', 'Lesotho', 'Liberia', 'Madagascar', 'Mali', 'Mongolia', 'Mauritania', 'Nepal', 'Nicaragua', 'Niger', 'Nigeria', 'Philippines', 'Pakistan', 'Rwanda', 'Senegal','Sudan', 'South Africa', 'Tajikistan', 'Uganda', 'Namibia', 'Vietnam', 'Yemen']"
   ]
  },
  {
   "cell_type": "code",
   "execution_count": 7,
   "metadata": {},
   "outputs": [],
   "source": [
    "trab_inf_idx = trab_inf.set_index('country')"
   ]
  },
  {
   "cell_type": "code",
   "execution_count": 8,
   "metadata": {},
   "outputs": [],
   "source": [
    "trab_inf_idx_t =trab_inf_idx.T"
   ]
  },
  {
   "cell_type": "code",
   "execution_count": 9,
   "metadata": {},
   "outputs": [],
   "source": [
    "trab_inf_sem_org = trab_inf_idx_t.iloc[:-1,:]"
   ]
  },
  {
   "cell_type": "markdown",
   "metadata": {},
   "source": [
    "### Gráfico de Taxa de trabalho infanti e a média nos anos"
   ]
  },
  {
   "cell_type": "code",
   "execution_count": 10,
   "metadata": {},
   "outputs": [
    {
     "data": {
      "text/plain": [
       "[<matplotlib.lines.Line2D at 0x25b1a57a978>]"
      ]
     },
     "execution_count": 10,
     "metadata": {},
     "output_type": "execute_result"
    },
    {
     "data": {
      "image/png": "[encoded data removed]",
      "text/plain": [
       "<Figure size 1440x720 with 1 Axes>"
      ]
     },
     "metadata": {
      "needs_background": "light"
     },
     "output_type": "display_data"
    }
   ],
   "source": [
    "medias_trab_inf = trab_inf.mean()\n",
    "plt.figure(figsize=(20,10))\n",
    "for pais in trab_inf_sem_org.columns:\n",
    "    plt.scatter(x=trab_inf_sem_org.index, y=trab_inf_sem_org[pais])\n",
    "plt.plot(medias_trab_inf.index, medias_trab_inf , color=\"r\")"
   ]
  },
  {
   "cell_type": "markdown",
   "metadata": {},
   "source": [
    "**Análise**:\n",
    "A tendência da taxa de trabalho infantil é cair com o tempo, porém percebe-se que mesmo com as medidas tomadas pela OIT, que contém muitos países membros, as taxas não tem quedas tão grandes e em alguns períodos voltam a ficar altas. Portanto, é possível verifcar que em países mesmo que pertencentes a Organização, as ações contra esse problema não são tão eficazes.\n",
    "    "
   ]
  },
  {
   "cell_type": "markdown",
   "metadata": {},
   "source": [
    "\n",
    "\n",
    "Nova coluna, sendo ela qualitativa:\n",
    "\n",
    "Primeiro todos os países receberão o numero 0"
   ]
  },
  {
   "cell_type": "code",
   "execution_count": 11,
   "metadata": {},
   "outputs": [],
   "source": [
    "trab_inf_idx.loc[:,\"ORG\"] = 0"
   ]
  },
  {
   "cell_type": "markdown",
   "metadata": {},
   "source": [
    "Os países que estão na lista de países \"bons\" terão o valor de \"ORG\" igual a 1"
   ]
  },
  {
   "cell_type": "code",
   "execution_count": 12,
   "metadata": {},
   "outputs": [],
   "source": [
    "trab_inf_idx.loc[TI_bons_2006, \"ORG\"] =1\n",
    "TI=trab_inf_idx\n"
   ]
  },
  {
   "cell_type": "markdown",
   "metadata": {},
   "source": [
    "Os países que estão na lista de países \"ruin\" terão o valor de \"ORG igual a 2"
   ]
  },
  {
   "cell_type": "code",
   "execution_count": 13,
   "metadata": {},
   "outputs": [],
   "source": [
    "trab_inf_idx.loc[TI_ruins_2006, \"ORG\"] =2\n",
    "TI=trab_inf_idx"
   ]
  },
  {
   "cell_type": "markdown",
   "metadata": {},
   "source": [
    "Portanto na coluna qualitativa \"ORG\" os países que tem o número 0 não estão na Organização Internacional do Trabalho, os que estão com 1 estão na organização e são países que tem condições de implementar medidas contra o trabalho infantil eficazes, já os que estão com numero 2 não têm infraestrutura para realizar medidas eficazes."
   ]
  },
  {
   "cell_type": "markdown",
   "metadata": {},
   "source": [
    "### Boxplot"
   ]
  },
  {
   "cell_type": "code",
   "execution_count": 14,
   "metadata": {},
   "outputs": [
    {
     "data": {
      "text/plain": [
       "<matplotlib.axes._subplots.AxesSubplot at 0x25b1adaad30>"
      ]
     },
     "execution_count": 14,
     "metadata": {},
     "output_type": "execute_result"
    },
    {
     "data": {
      "image/png": "[encoded data removed]",
      "text/plain": [
       "<Figure size 432x288 with 1 Axes>"
      ]
     },
     "metadata": {
      "needs_background": "light"
     },
     "output_type": "display_data"
    }
   ],
   "source": [
    "TI.boxplot([2006], by=\"ORG\")"
   ]
  },
  {
   "cell_type": "markdown",
   "metadata": {},
   "source": [
    "**Análise:**\n",
    "Observando o gráfico é possivel notar que os países que estão na lista de menos favorecidos, tem a taxa de trabalho infantil, no ano de 2006, maior do que a de países que são com mais infraestrutura, mostrando que dentro da Organização há uma separação e onde há melhores condições as taxas são de fato menores, pois conseguem implementar politicas contra o trabalho infantil "
   ]
  },
  {
   "cell_type": "markdown",
   "metadata": {},
   "source": [
    "Tabela com os dados de trabalho infantil de países \"bons\" no ano de 2006"
   ]
  },
  {
   "cell_type": "code",
   "execution_count": 15,
   "metadata": {},
   "outputs": [
    {
     "data": {
      "text/html": [
       "<div>\n",
       "<style scoped>\n",
       "    .dataframe tbody tr th:only-of-type {\n",
       "        vertical-align: middle;\n",
       "    }\n",
       "\n",
       "    .dataframe tbody tr th {\n",
       "        vertical-align: top;\n",
       "    }\n",
       "\n",
       "    .dataframe thead th {\n",
       "        text-align: right;\n",
       "    }\n",
       "</style>\n",
       "<table border=\"1\" class=\"dataframe\">\n",
       "  <thead>\n",
       "    <tr style=\"text-align: right;\">\n",
       "      <th></th>\n",
       "      <th>2006</th>\n",
       "    </tr>\n",
       "    <tr>\n",
       "      <th>country</th>\n",
       "      <th></th>\n",
       "    </tr>\n",
       "  </thead>\n",
       "  <tbody>\n",
       "    <tr>\n",
       "      <th>Afghanistan</th>\n",
       "      <td>NaN</td>\n",
       "    </tr>\n",
       "    <tr>\n",
       "      <th>Angola</th>\n",
       "      <td>NaN</td>\n",
       "    </tr>\n",
       "    <tr>\n",
       "      <th>Argentina</th>\n",
       "      <td>NaN</td>\n",
       "    </tr>\n",
       "  </tbody>\n",
       "</table>\n",
       "</div>"
      ],
      "text/plain": [
       "             2006\n",
       "country          \n",
       "Afghanistan   NaN\n",
       "Angola        NaN\n",
       "Argentina     NaN"
      ]
     },
     "execution_count": 15,
     "metadata": {},
     "output_type": "execute_result"
    }
   ],
   "source": [
    "#Tabela de trabalho infantil apenas com os países que estão na OIT no ano de 2006\n",
    "TI_org_bons_2006= TI.loc[(TI.ORG==1), [2006]]\n",
    "TI_org_bons_2006.head(3)"
   ]
  },
  {
   "cell_type": "markdown",
   "metadata": {},
   "source": [
    "Tabela com os dados de trabalho infantil de países \"ruins\" no ano de 2006"
   ]
  },
  {
   "cell_type": "code",
   "execution_count": 16,
   "metadata": {},
   "outputs": [
    {
     "data": {
      "text/html": [
       "<div>\n",
       "<style scoped>\n",
       "    .dataframe tbody tr th:only-of-type {\n",
       "        vertical-align: middle;\n",
       "    }\n",
       "\n",
       "    .dataframe tbody tr th {\n",
       "        vertical-align: top;\n",
       "    }\n",
       "\n",
       "    .dataframe thead th {\n",
       "        text-align: right;\n",
       "    }\n",
       "</style>\n",
       "<table border=\"1\" class=\"dataframe\">\n",
       "  <thead>\n",
       "    <tr style=\"text-align: right;\">\n",
       "      <th></th>\n",
       "      <th>2006</th>\n",
       "    </tr>\n",
       "    <tr>\n",
       "      <th>country</th>\n",
       "      <th></th>\n",
       "    </tr>\n",
       "  </thead>\n",
       "  <tbody>\n",
       "    <tr>\n",
       "      <th>Albania</th>\n",
       "      <td>NaN</td>\n",
       "    </tr>\n",
       "    <tr>\n",
       "      <th>Algeria</th>\n",
       "      <td>NaN</td>\n",
       "    </tr>\n",
       "    <tr>\n",
       "      <th>Azerbaijan</th>\n",
       "      <td>NaN</td>\n",
       "    </tr>\n",
       "  </tbody>\n",
       "</table>\n",
       "</div>"
      ],
      "text/plain": [
       "            2006\n",
       "country         \n",
       "Albania      NaN\n",
       "Algeria      NaN\n",
       "Azerbaijan   NaN"
      ]
     },
     "execution_count": 16,
     "metadata": {},
     "output_type": "execute_result"
    }
   ],
   "source": [
    "#Tabela de trabalho infantil apenas com os países que estão na OIT no ano de 2006\n",
    "TI_org_ruins_2006= TI.loc[(TI.ORG==2), [2006]]\n",
    "TI_org_ruins_2006.head(3)"
   ]
  },
  {
   "cell_type": "markdown",
   "metadata": {},
   "source": [
    "As listas abaixo separam os dois grupos que serão analisados para os os países que estão na tabela de taxa de analfabetização, considerando os membros da OIT no ano 2006"
   ]
  },
  {
   "cell_type": "code",
   "execution_count": 17,
   "metadata": {},
   "outputs": [],
   "source": [
    "AF_bons_2006=['Afghanistan', 'Algeria', 'Angola', 'Antigua and Barbuda', 'Argentina', 'Armenia', 'Australia', 'Austria', 'Bahamas', 'Bahrain', 'Bangladesh', 'Barbados', 'Belarus', 'Belgium', 'Belize', 'Botswana', 'Brazil', 'Bulgaria', 'Canada', 'Chad', 'Chile', 'China', 'Colombia', 'Congo, Dem. Rep.', 'Congo, Rep.', 'Costa Rica', 'Croatia', 'Cuba', 'Cyprus', 'Denmark', 'Dominica', 'Dominican Republic', 'Egypt', 'Estonia', 'Fiji', 'Finland', 'France', 'Gabon', 'Germany', 'Greece', 'Grenada', 'Guinea', 'Haiti', 'Hungary', 'Iceland', 'Iran', 'Iraq', 'Ireland', 'Israel', 'Italy', 'Japan', 'Jordan', 'Kazakhstan', 'Kiribati', 'Kuwait', 'Latvia', 'Lebanon', 'Libya', 'Lithuania', 'Luxembourg', 'Malawi', 'Malaysia', 'Malta', 'Mauritius', 'Mexico', 'Moldova', 'Morocco', 'Montenegro', 'Mozambique', 'Myanmar', 'Netherlands', 'New Zealand', 'Norway', 'Oman', 'Panama', 'Papua New Guinea', 'Paraguay', 'Peru', 'Poland', 'Portugal', 'Qatar', 'Romania', 'Russia', 'San Marino', 'Sao Tome and Principe', 'Samoa', 'Saudi Arabia', 'Serbia', 'Seychelles', 'Sierra Leone', 'Singapore', 'Slovenia', 'South Africa', 'Solomon Islands', 'Spain', 'Sri Lanka', 'Suriname', 'Sweden', 'Tanzania', 'Thailand', 'Togo', 'Timor-Leste', 'Trinidad and Tobago', 'Tunisia', 'Turkey', 'Ukraine', 'United Arab Emirates', 'United Kingdom', 'United States', 'Uruguay', 'Uzbekistan', 'Vanuatu', 'Venezuela', 'Zimbabwe']\n",
    "AF_ruins_2006=['Zambia', 'Azerbaijan', 'Albania', 'Benin', 'Burundi', 'Bolivia', 'Burkina Faso', \"Cote d'Ivoire\", 'Comoros', 'Cambodia', 'Cameroon', 'Central African Republic', 'El Salvador', 'Ecuador', 'Ethiopia', 'Ghana', 'Gambia', 'Georgia', 'Guatemala', 'Honduras', 'India', 'Indonesia', 'Jamaica', 'Kenya', 'Lao', 'Lesotho', 'Liberia',  'Madagascar', 'Mongolia', 'Mauritania',  'Mali', 'Nepal', 'Nicaragua', 'Nigeria', 'Niger', 'Philippines', 'Pakistan', 'Rwanda', 'Senegal','Sudan', 'Switzerland', 'Tajikistan', 'Uganda', 'Namibia', 'Vietnam', 'Yemen', 'Djibouti', 'Equatorial Guinea', 'Eritrea', 'Guinea-Bissau']"
   ]
  },
  {
   "cell_type": "code",
   "execution_count": 18,
   "metadata": {},
   "outputs": [],
   "source": [
    "alfab_idx = alfab.set_index('country')"
   ]
  },
  {
   "cell_type": "code",
   "execution_count": 19,
   "metadata": {},
   "outputs": [],
   "source": [
    "alfab_idx_t =alfab_idx.T"
   ]
  },
  {
   "cell_type": "code",
   "execution_count": 20,
   "metadata": {},
   "outputs": [],
   "source": [
    "alfab_sem_org = alfab_idx_t.iloc[:-1,:]"
   ]
  },
  {
   "cell_type": "markdown",
   "metadata": {},
   "source": [
    "### Gráfico de taxa de analfabetização e médias nos anos"
   ]
  },
  {
   "cell_type": "code",
   "execution_count": 21,
   "metadata": {},
   "outputs": [
    {
     "data": {
      "text/plain": [
       "[<matplotlib.lines.Line2D at 0x25b1aa085c0>]"
      ]
     },
     "execution_count": 21,
     "metadata": {},
     "output_type": "execute_result"
    },
    {
     "data": {
      "image/png": "[encoded data removed]",
      "text/plain": [
       "<Figure size 1440x720 with 1 Axes>"
      ]
     },
     "metadata": {
      "needs_background": "light"
     },
     "output_type": "display_data"
    }
   ],
   "source": [
    "medias_alfab= alfab.mean()\n",
    "plt.figure(figsize=(20,10))\n",
    "for pais in alfab_sem_org.columns:\n",
    "    plt.scatter(x=alfab_sem_org.index, y=alfab_sem_org[pais])\n",
    "plt.plot(medias_alfab.index, medias_alfab , color=\"r\")"
   ]
  },
  {
   "cell_type": "markdown",
   "metadata": {},
   "source": [
    "**Análise:**\n",
    "Observando os gráfico é possível perceber que o analfabetismo, em média, está diminuindo com o passar do tempo, no entanto, ainda é bem alto em vários países. Com a falta de eficiência no combate a exploração de mão de obra infantil em muitos lugares, menos crianças têm oportunidade de se alfabetizarem."
   ]
  },
  {
   "cell_type": "markdown",
   "metadata": {},
   "source": [
    "A mesma separação qualitativa de países foi feita com a tabela de taxa de alfabetização"
   ]
  },
  {
   "cell_type": "code",
   "execution_count": 22,
   "metadata": {},
   "outputs": [],
   "source": [
    "alfab_idx.loc[:,\"ORG\"] = 0"
   ]
  },
  {
   "cell_type": "code",
   "execution_count": 23,
   "metadata": {},
   "outputs": [],
   "source": [
    "alfab_idx.loc[AF_bons_2006, \"ORG\"] =1\n",
    "AF=alfab_idx"
   ]
  },
  {
   "cell_type": "code",
   "execution_count": 24,
   "metadata": {},
   "outputs": [],
   "source": [
    "alfab_idx.loc[AF_ruins_2006, \"ORG\"] =2\n",
    "AF=alfab_idx"
   ]
  },
  {
   "cell_type": "markdown",
   "metadata": {},
   "source": [
    "Os países foram divididos em os que etsão fora da OIT (0), os que estão dentro da OIT e tem mais infraesturura (1) e os que t~em menos infraestrutura (2)"
   ]
  },
  {
   "cell_type": "markdown",
   "metadata": {},
   "source": [
    "### Boxplot "
   ]
  },
  {
   "cell_type": "code",
   "execution_count": 25,
   "metadata": {},
   "outputs": [
    {
     "data": {
      "text/plain": [
       "<matplotlib.axes._subplots.AxesSubplot at 0x25b1abb47f0>"
      ]
     },
     "execution_count": 25,
     "metadata": {},
     "output_type": "execute_result"
    },
    {
     "data": {
      "image/png": "[encoded data removed]",
      "text/plain": [
       "<Figure size 432x288 with 1 Axes>"
      ]
     },
     "metadata": {
      "needs_background": "light"
     },
     "output_type": "display_data"
    }
   ],
   "source": [
    "AF.boxplot([2006], by=\"ORG\")"
   ]
  },
  {
   "cell_type": "markdown",
   "metadata": {},
   "source": [
    "**Análise:**\n",
    "É possíves perceber pelo Boxplot que a mediana que representa as taxas de analfabetismo, nos países mais desenvolvidos está mais baixa e nos países com mais dificuldades está mais alta, mostrando que nestes lugares há mais pessoas que não tiveram a chance de aprenderem a ler e escrever."
   ]
  },
  {
   "cell_type": "markdown",
   "metadata": {},
   "source": [
    "Tabela com os dados de alfabetização de países \"bons\" no ano de 2006"
   ]
  },
  {
   "cell_type": "code",
   "execution_count": 26,
   "metadata": {},
   "outputs": [
    {
     "data": {
      "text/html": [
       "<div>\n",
       "<style scoped>\n",
       "    .dataframe tbody tr th:only-of-type {\n",
       "        vertical-align: middle;\n",
       "    }\n",
       "\n",
       "    .dataframe tbody tr th {\n",
       "        vertical-align: top;\n",
       "    }\n",
       "\n",
       "    .dataframe thead th {\n",
       "        text-align: right;\n",
       "    }\n",
       "</style>\n",
       "<table border=\"1\" class=\"dataframe\">\n",
       "  <thead>\n",
       "    <tr style=\"text-align: right;\">\n",
       "      <th></th>\n",
       "      <th>2006</th>\n",
       "    </tr>\n",
       "    <tr>\n",
       "      <th>country</th>\n",
       "      <th></th>\n",
       "    </tr>\n",
       "  </thead>\n",
       "  <tbody>\n",
       "    <tr>\n",
       "      <th>Afghanistan</th>\n",
       "      <td>NaN</td>\n",
       "    </tr>\n",
       "    <tr>\n",
       "      <th>Algeria</th>\n",
       "      <td>4.32</td>\n",
       "    </tr>\n",
       "    <tr>\n",
       "      <th>Angola</th>\n",
       "      <td>NaN</td>\n",
       "    </tr>\n",
       "  </tbody>\n",
       "</table>\n",
       "</div>"
      ],
      "text/plain": [
       "             2006\n",
       "country          \n",
       "Afghanistan   NaN\n",
       "Algeria      4.32\n",
       "Angola        NaN"
      ]
     },
     "execution_count": 26,
     "metadata": {},
     "output_type": "execute_result"
    }
   ],
   "source": [
    "#Tabela de taxa de alfabetização de 2006 apenas com os membros da OIT\n",
    "AF_org_bons_2006= AF.loc[(AF.ORG==1), [2006]]\n",
    "AF_org_bons_2006.head(3)"
   ]
  },
  {
   "cell_type": "code",
   "execution_count": 27,
   "metadata": {},
   "outputs": [
    {
     "data": {
      "text/plain": [
       "2006    45.4\n",
       "dtype: float64"
      ]
     },
     "execution_count": 27,
     "metadata": {},
     "output_type": "execute_result"
    }
   ],
   "source": [
    "AF_org_bons_2006.max()"
   ]
  },
  {
   "cell_type": "markdown",
   "metadata": {},
   "source": [
    "Tabela com os dados de alfabetização de países \"ruins\" no ano de 2006"
   ]
  },
  {
   "cell_type": "code",
   "execution_count": 28,
   "metadata": {},
   "outputs": [
    {
     "data": {
      "text/html": [
       "<div>\n",
       "<style scoped>\n",
       "    .dataframe tbody tr th:only-of-type {\n",
       "        vertical-align: middle;\n",
       "    }\n",
       "\n",
       "    .dataframe tbody tr th {\n",
       "        vertical-align: top;\n",
       "    }\n",
       "\n",
       "    .dataframe thead th {\n",
       "        text-align: right;\n",
       "    }\n",
       "</style>\n",
       "<table border=\"1\" class=\"dataframe\">\n",
       "  <thead>\n",
       "    <tr style=\"text-align: right;\">\n",
       "      <th></th>\n",
       "      <th>2006</th>\n",
       "    </tr>\n",
       "    <tr>\n",
       "      <th>country</th>\n",
       "      <th></th>\n",
       "    </tr>\n",
       "  </thead>\n",
       "  <tbody>\n",
       "    <tr>\n",
       "      <th>Albania</th>\n",
       "      <td>NaN</td>\n",
       "    </tr>\n",
       "    <tr>\n",
       "      <th>Azerbaijan</th>\n",
       "      <td>16.2</td>\n",
       "    </tr>\n",
       "    <tr>\n",
       "      <th>Benin</th>\n",
       "      <td>13.2</td>\n",
       "    </tr>\n",
       "  </tbody>\n",
       "</table>\n",
       "</div>"
      ],
      "text/plain": [
       "            2006\n",
       "country         \n",
       "Albania      NaN\n",
       "Azerbaijan  16.2\n",
       "Benin       13.2"
      ]
     },
     "execution_count": 28,
     "metadata": {},
     "output_type": "execute_result"
    }
   ],
   "source": [
    "#Tabela de taxa de alfabetização de 2006 apenas com os paises não membros da OIT\n",
    "AF_org_ruins_2006= AF.loc[(AF.ORG==2), [2006]]\n",
    "AF_org_ruins_2006.head(3)"
   ]
  },
  {
   "cell_type": "markdown",
   "metadata": {},
   "source": [
    "## Inner Join\n",
    "\n",
    "Os dados de países dentro da lista \"bons\" de trabalho infantil e analfabetização do ano de 2006 foram unidos na mesma tabela"
   ]
  },
  {
   "cell_type": "code",
   "execution_count": 29,
   "metadata": {},
   "outputs": [
    {
     "data": {
      "text/html": [
       "<div>\n",
       "<style scoped>\n",
       "    .dataframe tbody tr th:only-of-type {\n",
       "        vertical-align: middle;\n",
       "    }\n",
       "\n",
       "    .dataframe tbody tr th {\n",
       "        vertical-align: top;\n",
       "    }\n",
       "\n",
       "    .dataframe thead th {\n",
       "        text-align: right;\n",
       "    }\n",
       "</style>\n",
       "<table border=\"1\" class=\"dataframe\">\n",
       "  <thead>\n",
       "    <tr style=\"text-align: right;\">\n",
       "      <th></th>\n",
       "      <th>2006_trab_inf</th>\n",
       "      <th>2006_alfab</th>\n",
       "    </tr>\n",
       "    <tr>\n",
       "      <th>country</th>\n",
       "      <th></th>\n",
       "      <th></th>\n",
       "    </tr>\n",
       "  </thead>\n",
       "  <tbody>\n",
       "    <tr>\n",
       "      <th>Afghanistan</th>\n",
       "      <td>NaN</td>\n",
       "      <td>NaN</td>\n",
       "    </tr>\n",
       "    <tr>\n",
       "      <th>Angola</th>\n",
       "      <td>NaN</td>\n",
       "      <td>NaN</td>\n",
       "    </tr>\n",
       "    <tr>\n",
       "      <th>Argentina</th>\n",
       "      <td>NaN</td>\n",
       "      <td>0.529</td>\n",
       "    </tr>\n",
       "  </tbody>\n",
       "</table>\n",
       "</div>"
      ],
      "text/plain": [
       "             2006_trab_inf  2006_alfab\n",
       "country                               \n",
       "Afghanistan            NaN         NaN\n",
       "Angola                 NaN         NaN\n",
       "Argentina              NaN       0.529"
      ]
     },
     "execution_count": 29,
     "metadata": {},
     "output_type": "execute_result"
    }
   ],
   "source": [
    "#juntando as taxas de alfabetização e trabalho infantil dos \"bons\"\n",
    "tral_bom = TI_org_bons_2006.join(AF_org_bons_2006, how='inner', lsuffix='_trab_inf', rsuffix='_alfab')\n",
    "tral_bom.head(3)"
   ]
  },
  {
   "cell_type": "markdown",
   "metadata": {},
   "source": [
    "## Gráfico de Trabalho infantil x Alfabetização\n",
    "\n",
    "Para países da categoria \"bons\""
   ]
  },
  {
   "cell_type": "code",
   "execution_count": 30,
   "metadata": {},
   "outputs": [
    {
     "data": {
      "text/plain": [
       "Text(0, 0.5, 'Analfabetismo')"
      ]
     },
     "execution_count": 30,
     "metadata": {},
     "output_type": "execute_result"
    },
    {
     "data": {
      "image/png": "[encoded data removed]",
      "text/plain": [
       "<Figure size 432x288 with 1 Axes>"
      ]
     },
     "metadata": {
      "needs_background": "light"
     },
     "output_type": "display_data"
    }
   ],
   "source": [
    "plt.scatter(tral_bom[\"2006_trab_inf\"], tral_bom['2006_alfab'], color='r')\n",
    "plt.title('Trabalho Infantil x Analfabetismo')\n",
    "plt.xlabel('Trabalho Infantil')\n",
    "plt.ylabel('Analfabetismo')\n"
   ]
  },
  {
   "cell_type": "markdown",
   "metadata": {},
   "source": [
    "**Análise:**\n",
    "Nos países com mais infraestrutura as taxas de analfabetismos são menos e em maioria os pontos que demonstram taxas altas de trabalho infantil tambem mostram taxas mais altas de analfabetismo."
   ]
  },
  {
   "cell_type": "markdown",
   "metadata": {},
   "source": [
    "\n",
    "\n",
    "Os dados de países dentro da lista \"ruin\" de trabalho infantil e analfabetismo do ano de 2006 foram unidos na mesma tabela"
   ]
  },
  {
   "cell_type": "code",
   "execution_count": 31,
   "metadata": {},
   "outputs": [
    {
     "data": {
      "text/html": [
       "<div>\n",
       "<style scoped>\n",
       "    .dataframe tbody tr th:only-of-type {\n",
       "        vertical-align: middle;\n",
       "    }\n",
       "\n",
       "    .dataframe tbody tr th {\n",
       "        vertical-align: top;\n",
       "    }\n",
       "\n",
       "    .dataframe thead th {\n",
       "        text-align: right;\n",
       "    }\n",
       "</style>\n",
       "<table border=\"1\" class=\"dataframe\">\n",
       "  <thead>\n",
       "    <tr style=\"text-align: right;\">\n",
       "      <th></th>\n",
       "      <th>2006_trab_inf</th>\n",
       "      <th>2006_alfab</th>\n",
       "    </tr>\n",
       "    <tr>\n",
       "      <th>country</th>\n",
       "      <th></th>\n",
       "      <th></th>\n",
       "    </tr>\n",
       "  </thead>\n",
       "  <tbody>\n",
       "    <tr>\n",
       "      <th>Albania</th>\n",
       "      <td>NaN</td>\n",
       "      <td>NaN</td>\n",
       "    </tr>\n",
       "    <tr>\n",
       "      <th>Azerbaijan</th>\n",
       "      <td>NaN</td>\n",
       "      <td>16.20</td>\n",
       "    </tr>\n",
       "    <tr>\n",
       "      <th>Benin</th>\n",
       "      <td>74.4</td>\n",
       "      <td>13.20</td>\n",
       "    </tr>\n",
       "    <tr>\n",
       "      <th>Bolivia</th>\n",
       "      <td>NaN</td>\n",
       "      <td>3.06</td>\n",
       "    </tr>\n",
       "    <tr>\n",
       "      <th>Burkina Faso</th>\n",
       "      <td>42.1</td>\n",
       "      <td>50.40</td>\n",
       "    </tr>\n",
       "  </tbody>\n",
       "</table>\n",
       "</div>"
      ],
      "text/plain": [
       "              2006_trab_inf  2006_alfab\n",
       "country                                \n",
       "Albania                 NaN         NaN\n",
       "Azerbaijan              NaN       16.20\n",
       "Benin                  74.4       13.20\n",
       "Bolivia                 NaN        3.06\n",
       "Burkina Faso           42.1       50.40"
      ]
     },
     "execution_count": 31,
     "metadata": {},
     "output_type": "execute_result"
    }
   ],
   "source": [
    "tral_ruim = TI_org_ruins_2006.join(AF_org_ruins_2006, how='inner', lsuffix='_trab_inf', rsuffix='_alfab')\n",
    "tral_ruim.head()"
   ]
  },
  {
   "cell_type": "markdown",
   "metadata": {},
   "source": [
    "**Gráfico de Trabalho infantil x Alfabetização**\n",
    "\n",
    "Para países da categoria \"ruins\""
   ]
  },
  {
   "cell_type": "code",
   "execution_count": 32,
   "metadata": {},
   "outputs": [
    {
     "data": {
      "text/plain": [
       "Text(0, 0.5, 'Analfabetismo')"
      ]
     },
     "execution_count": 32,
     "metadata": {},
     "output_type": "execute_result"
    },
    {
     "data": {
      "image/png": "[encoded data removed]",
      "text/plain": [
       "<Figure size 432x288 with 1 Axes>"
      ]
     },
     "metadata": {
      "needs_background": "light"
     },
     "output_type": "display_data"
    }
   ],
   "source": [
    "plt.scatter(tral_ruim[\"2006_trab_inf\"], tral_ruim['2006_alfab'], color='y')\n",
    "plt.title('Trabalho Infantil x Analfabetismo')\n",
    "plt.xlabel('Trabalho Infantil')\n",
    "plt.ylabel('Analfabetismo')"
   ]
  },
  {
   "cell_type": "markdown",
   "metadata": {},
   "source": [
    "**Análise:**\n",
    "Nos países menos favorecidos as taxas de trabalho infantil e analfabetismo são mais elevadas e em sua maioria quanto mais alta taxa de trabalho infantil, mais alta de quantidade de pessoas analfabetas"
   ]
  },
  {
   "cell_type": "markdown",
   "metadata": {},
   "source": [
    "# Análise dados de 2012\n",
    "\n",
    "\n",
    "Entre 2006 e 2012 mais países entraram na organização"
   ]
  },
  {
   "cell_type": "markdown",
   "metadata": {},
   "source": [
    "As listas de separação de países foram atualizadas, contendo todod os países pertencentes a organização em 2012"
   ]
  },
  {
   "cell_type": "code",
   "execution_count": 33,
   "metadata": {},
   "outputs": [],
   "source": [
    "TI_bons_2012=['Afghanistan', 'Angola', 'Argentina', 'Armenia', 'Bangladesh', 'Belarus', 'Bosnia and Herzegovina', 'Brazil', 'Chad', 'Chile', 'Colombia', 'Congo, Dem. Rep.', 'Congo, Rep.', 'Costa Rica', 'Dominican Republic', 'Egypt', 'Gabon', 'Guinea', 'Haiti', 'Iraq', 'Jordan', 'Kazakhstan', 'Malawi', 'Mexico', 'Moldova', 'Morocco', 'Mozambique', 'Panama', 'Paraguay', 'Peru', 'Portugal', 'Romania', 'Serbia', 'Sierra Leone', 'Somalia', 'Sri Lanka', 'Tanzania', 'Thailand', 'Togo', 'Trinidad and Tobago', 'Timor-Leste', 'Tunisia', 'Turkey', 'Ukraine', 'Uruguay', 'Uzbekistan', 'Venezuela', 'Zimbabwe']\n",
    "TI_ruins_2012=['Zambia', 'Azerbaijan', 'Algeria', 'Albania', 'Benin', 'Burundi', 'Bolivia', 'Burkina Faso', \"Cote d'Ivoire\", 'Cambodia', 'Cameroon', 'Central African Republic', 'El Salvador', 'Ecuador', 'Ethiopia', 'Ghana', 'Gambia', 'Georgia', 'Guatemala', 'Guinea-Bissau', 'Honduras', 'India', 'Indonesia', 'Jamaica', 'Kenya', 'Lao', 'Lesotho', 'Liberia', 'Mali', 'Madagascar', 'Mongolia', 'Mauritania', 'Nepal', 'Nicaragua', 'Nigeria', 'Niger', 'Philippines', 'Pakistan', 'Rwanda', 'Senegal','Sudan', 'South Africa', 'South Sudan', 'Tajikistan', 'Uganda', 'Namibia', 'Vietnam', 'Yemen']"
   ]
  },
  {
   "cell_type": "markdown",
   "metadata": {},
   "source": [
    "A separação na coluna qualitativa foi disposta da mesma maneira:"
   ]
  },
  {
   "cell_type": "code",
   "execution_count": 34,
   "metadata": {},
   "outputs": [],
   "source": [
    "trab_inf_idx.loc[TI_bons_2012, \"ORG\"] =1\n",
    "TI_2012=trab_inf_idx"
   ]
  },
  {
   "cell_type": "code",
   "execution_count": 35,
   "metadata": {},
   "outputs": [],
   "source": [
    "trab_inf_idx.loc[TI_ruins_2012, \"ORG\"] =2\n",
    "TI_2012=trab_inf_idx"
   ]
  },
  {
   "cell_type": "markdown",
   "metadata": {},
   "source": [
    "### Boxplot"
   ]
  },
  {
   "cell_type": "code",
   "execution_count": 36,
   "metadata": {},
   "outputs": [
    {
     "data": {
      "text/plain": [
       "<matplotlib.axes._subplots.AxesSubplot at 0x25b1aceffd0>"
      ]
     },
     "execution_count": 36,
     "metadata": {},
     "output_type": "execute_result"
    },
    {
     "data": {
      "image/png": "[encoded data removed]",
      "text/plain": [
       "<Figure size 432x288 with 1 Axes>"
      ]
     },
     "metadata": {
      "needs_background": "light"
     },
     "output_type": "display_data"
    }
   ],
   "source": [
    "TI_2012.boxplot([2012], by=\"ORG\")"
   ]
  },
  {
   "cell_type": "markdown",
   "metadata": {},
   "source": [
    "**Análise:**\n",
    "Com o boxplot é possível verificar que as taxas de trabalho infantil de ambos os grupos diminuiram, no entanto ainda há uma grande diferença entre os países a categoria 1 e 2."
   ]
  },
  {
   "cell_type": "markdown",
   "metadata": {},
   "source": [
    "Tabela com os dados de trabalho infantil de países \"bons\" no ano de 2012\n"
   ]
  },
  {
   "cell_type": "code",
   "execution_count": 37,
   "metadata": {},
   "outputs": [
    {
     "data": {
      "text/html": [
       "<div>\n",
       "<style scoped>\n",
       "    .dataframe tbody tr th:only-of-type {\n",
       "        vertical-align: middle;\n",
       "    }\n",
       "\n",
       "    .dataframe tbody tr th {\n",
       "        vertical-align: top;\n",
       "    }\n",
       "\n",
       "    .dataframe thead th {\n",
       "        text-align: right;\n",
       "    }\n",
       "</style>\n",
       "<table border=\"1\" class=\"dataframe\">\n",
       "  <thead>\n",
       "    <tr style=\"text-align: right;\">\n",
       "      <th></th>\n",
       "      <th>2012</th>\n",
       "    </tr>\n",
       "    <tr>\n",
       "      <th>country</th>\n",
       "      <th></th>\n",
       "    </tr>\n",
       "  </thead>\n",
       "  <tbody>\n",
       "    <tr>\n",
       "      <th>Afghanistan</th>\n",
       "      <td>NaN</td>\n",
       "    </tr>\n",
       "    <tr>\n",
       "      <th>Angola</th>\n",
       "      <td>NaN</td>\n",
       "    </tr>\n",
       "    <tr>\n",
       "      <th>Argentina</th>\n",
       "      <td>5.03</td>\n",
       "    </tr>\n",
       "  </tbody>\n",
       "</table>\n",
       "</div>"
      ],
      "text/plain": [
       "             2012\n",
       "country          \n",
       "Afghanistan   NaN\n",
       "Angola        NaN\n",
       "Argentina    5.03"
      ]
     },
     "execution_count": 37,
     "metadata": {},
     "output_type": "execute_result"
    }
   ],
   "source": [
    "TI_org_bons_2012= TI_2012.loc[(TI_2012.ORG==1), [2012]]\n",
    "TI_org_bons_2012.head(3)"
   ]
  },
  {
   "cell_type": "markdown",
   "metadata": {},
   "source": [
    "Tabela com os dados de trabalho infantil de países \"ruins\" no ano de 2012"
   ]
  },
  {
   "cell_type": "code",
   "execution_count": 38,
   "metadata": {},
   "outputs": [
    {
     "data": {
      "text/html": [
       "<div>\n",
       "<style scoped>\n",
       "    .dataframe tbody tr th:only-of-type {\n",
       "        vertical-align: middle;\n",
       "    }\n",
       "\n",
       "    .dataframe tbody tr th {\n",
       "        vertical-align: top;\n",
       "    }\n",
       "\n",
       "    .dataframe thead th {\n",
       "        text-align: right;\n",
       "    }\n",
       "</style>\n",
       "<table border=\"1\" class=\"dataframe\">\n",
       "  <thead>\n",
       "    <tr style=\"text-align: right;\">\n",
       "      <th></th>\n",
       "      <th>2012</th>\n",
       "    </tr>\n",
       "    <tr>\n",
       "      <th>country</th>\n",
       "      <th></th>\n",
       "    </tr>\n",
       "  </thead>\n",
       "  <tbody>\n",
       "    <tr>\n",
       "      <th>Albania</th>\n",
       "      <td>NaN</td>\n",
       "    </tr>\n",
       "    <tr>\n",
       "      <th>Algeria</th>\n",
       "      <td>NaN</td>\n",
       "    </tr>\n",
       "    <tr>\n",
       "      <th>Azerbaijan</th>\n",
       "      <td>NaN</td>\n",
       "    </tr>\n",
       "  </tbody>\n",
       "</table>\n",
       "</div>"
      ],
      "text/plain": [
       "            2012\n",
       "country         \n",
       "Albania      NaN\n",
       "Algeria      NaN\n",
       "Azerbaijan   NaN"
      ]
     },
     "execution_count": 38,
     "metadata": {},
     "output_type": "execute_result"
    }
   ],
   "source": [
    "TI_org_ruins_2012= TI_2012.loc[(TI_2012.ORG==2), [2012]]\n",
    "TI_org_ruins_2012.head(3)"
   ]
  },
  {
   "cell_type": "code",
   "execution_count": 39,
   "metadata": {},
   "outputs": [],
   "source": [
    "AF_bons_2012=['Afghanistan', 'Algeria', 'Angola', 'Antigua and Barbuda', 'Argentina', 'Armenia', 'Australia', 'Austria', 'Bahamas', 'Bahrain', 'Bangladesh', 'Barbados', 'Belarus', 'Belgium', 'Belize', 'Botswana', 'Brazil', 'Bulgaria', 'Brunei', 'Canada', 'Chad', 'Chile', 'China', 'Colombia', 'Congo, Dem. Rep.', 'Congo, Rep.', 'Costa Rica', 'Croatia', 'Cuba', 'Cyprus', 'Denmark', 'Dominica', 'Dominican Republic', 'Egypt', 'Estonia', 'Fiji', 'Finland', 'France', 'Gabon', 'Germany', 'Greece', 'Grenada', 'Guinea','Haiti', 'Hungary', 'Iceland', 'Iran', 'Iraq', 'Ireland', 'Israel', 'Italy', 'Japan', 'Jordan', 'Kazakhstan', 'Kiribati', 'Kuwait', 'Latvia', 'Lebanon', 'Libya', 'Lithuania', 'Luxembourg', 'Malawi', 'Malaysia', 'Malta', 'Mauritius', 'Mexico', 'Moldova', 'Morocco', 'Montenegro', 'Marshall Islands', 'Mozambique', 'Myanmar', 'Netherlands', 'New Zealand', 'Norway', 'Oman', 'Panama', 'Papua New Guinea', 'Paraguay', 'Peru', 'Poland', 'Portugal', 'Qatar', 'Romania', 'Russia', 'San Marino', 'Sao Tome and Principe', 'Samoa', 'Saudi Arabia', 'Serbia', 'Seychelles', 'Sierra Leone', 'Singapore', 'Slovenia', 'South Africa', 'Solomon Islands', 'Spain', 'Sri Lanka', 'Suriname', 'Sweden', 'Tanzania', 'Thailand', 'Togo', 'Timor-Leste', 'Trinidad and Tobago', 'Tunisia', 'Turkey', 'Tuvalu', 'Ukraine', 'United Arab Emirates', 'United Kingdom', 'United States', 'Uruguay', 'Uzbekistan', 'Vanuatu', 'Venezuela', 'Zimbabwe']\n",
    "AF_ruins_2012=['Zambia', 'Azerbaijan', 'Albania', 'Benin', 'Burundi', 'Bolivia', 'Burkina Faso', \"Cote d'Ivoire\", 'Comoros', 'Cambodia', 'Cameroon', 'El Salvador', 'Ecuador', 'Ethiopia', 'Ghana', 'Gambia', 'Georgia', 'Guatemala', 'Honduras', 'India', 'Indonesia', 'Jamaica', 'Kenya', 'Lao', 'Lesotho', 'Liberia', 'Central African Republic',  'Madagascar', 'Maldives', 'Mongolia', 'Mauritania', 'Mali', 'Nepal', 'Nicaragua', 'Nigeria', 'Niger', 'Philippines', 'Pakistan', 'Rwanda', 'Senegal','Sudan', 'Switzerland', 'Tajikistan', 'Uganda', 'Namibia', 'Vietnam', 'Yemen', 'Djibouti', 'Eritrea', 'Equatorial Guinea', 'Guinea-Bissau', ]"
   ]
  },
  {
   "cell_type": "code",
   "execution_count": 40,
   "metadata": {},
   "outputs": [],
   "source": [
    "alfab_idx.loc[AF_bons_2012, \"ORG\"] =1\n",
    "AF_2012=alfab_idx"
   ]
  },
  {
   "cell_type": "code",
   "execution_count": 41,
   "metadata": {},
   "outputs": [],
   "source": [
    "alfab_idx.loc[AF_ruins_2012, \"ORG\"] =2\n",
    "AF_2012=alfab_idx"
   ]
  },
  {
   "cell_type": "markdown",
   "metadata": {},
   "source": [
    "### Boxplot"
   ]
  },
  {
   "cell_type": "code",
   "execution_count": 42,
   "metadata": {},
   "outputs": [
    {
     "data": {
      "text/plain": [
       "<matplotlib.axes._subplots.AxesSubplot at 0x25b1b0fd2b0>"
      ]
     },
     "execution_count": 42,
     "metadata": {},
     "output_type": "execute_result"
    },
    {
     "data": {
      "image/png": "[encoded data removed]",
      "text/plain": [
       "<Figure size 432x288 with 1 Axes>"
      ]
     },
     "metadata": {
      "needs_background": "light"
     },
     "output_type": "display_data"
    }
   ],
   "source": [
    "AF_2012.boxplot([2012], by=\"ORG\")"
   ]
  },
  {
   "cell_type": "markdown",
   "metadata": {},
   "source": [
    "**Análise:**\n",
    "As taxas de analfabetização também diminuiram, porém a diferença continua.\n",
    "\n",
    "    "
   ]
  },
  {
   "cell_type": "markdown",
   "metadata": {},
   "source": [
    "Tabela com os dados de alfabetização de países \"bons\" no ano de 2012"
   ]
  },
  {
   "cell_type": "code",
   "execution_count": 43,
   "metadata": {},
   "outputs": [
    {
     "data": {
      "text/html": [
       "<div>\n",
       "<style scoped>\n",
       "    .dataframe tbody tr th:only-of-type {\n",
       "        vertical-align: middle;\n",
       "    }\n",
       "\n",
       "    .dataframe tbody tr th {\n",
       "        vertical-align: top;\n",
       "    }\n",
       "\n",
       "    .dataframe thead th {\n",
       "        text-align: right;\n",
       "    }\n",
       "</style>\n",
       "<table border=\"1\" class=\"dataframe\">\n",
       "  <thead>\n",
       "    <tr style=\"text-align: right;\">\n",
       "      <th></th>\n",
       "      <th>2012</th>\n",
       "    </tr>\n",
       "    <tr>\n",
       "      <th>country</th>\n",
       "      <th></th>\n",
       "    </tr>\n",
       "  </thead>\n",
       "  <tbody>\n",
       "    <tr>\n",
       "      <th>Afghanistan</th>\n",
       "      <td>NaN</td>\n",
       "    </tr>\n",
       "    <tr>\n",
       "      <th>Algeria</th>\n",
       "      <td>0.889</td>\n",
       "    </tr>\n",
       "    <tr>\n",
       "      <th>Angola</th>\n",
       "      <td>NaN</td>\n",
       "    </tr>\n",
       "  </tbody>\n",
       "</table>\n",
       "</div>"
      ],
      "text/plain": [
       "              2012\n",
       "country           \n",
       "Afghanistan    NaN\n",
       "Algeria      0.889\n",
       "Angola         NaN"
      ]
     },
     "execution_count": 43,
     "metadata": {},
     "output_type": "execute_result"
    }
   ],
   "source": [
    "AF_org_bons_2012= AF_2012.loc[(AF_2012.ORG==1), [2012]]\n",
    "AF_org_bons_2012.head(3)"
   ]
  },
  {
   "cell_type": "markdown",
   "metadata": {},
   "source": [
    "Tabela com os dados de alfabetização de países \"ruins\" no ano de 2012"
   ]
  },
  {
   "cell_type": "code",
   "execution_count": 44,
   "metadata": {},
   "outputs": [
    {
     "data": {
      "text/html": [
       "<div>\n",
       "<style scoped>\n",
       "    .dataframe tbody tr th:only-of-type {\n",
       "        vertical-align: middle;\n",
       "    }\n",
       "\n",
       "    .dataframe tbody tr th {\n",
       "        vertical-align: top;\n",
       "    }\n",
       "\n",
       "    .dataframe thead th {\n",
       "        text-align: right;\n",
       "    }\n",
       "</style>\n",
       "<table border=\"1\" class=\"dataframe\">\n",
       "  <thead>\n",
       "    <tr style=\"text-align: right;\">\n",
       "      <th></th>\n",
       "      <th>2012</th>\n",
       "    </tr>\n",
       "    <tr>\n",
       "      <th>country</th>\n",
       "      <th></th>\n",
       "    </tr>\n",
       "  </thead>\n",
       "  <tbody>\n",
       "    <tr>\n",
       "      <th>Albania</th>\n",
       "      <td>9.53</td>\n",
       "    </tr>\n",
       "    <tr>\n",
       "      <th>Azerbaijan</th>\n",
       "      <td>10.70</td>\n",
       "    </tr>\n",
       "    <tr>\n",
       "      <th>Benin</th>\n",
       "      <td>4.49</td>\n",
       "    </tr>\n",
       "  </tbody>\n",
       "</table>\n",
       "</div>"
      ],
      "text/plain": [
       "             2012\n",
       "country          \n",
       "Albania      9.53\n",
       "Azerbaijan  10.70\n",
       "Benin        4.49"
      ]
     },
     "execution_count": 44,
     "metadata": {},
     "output_type": "execute_result"
    }
   ],
   "source": [
    "AF_org_ruins_2012= AF_2012.loc[(AF_2012.ORG==2), [2012]]\n",
    "AF_org_ruins_2012.head(3)"
   ]
  },
  {
   "cell_type": "markdown",
   "metadata": {},
   "source": [
    "## Inner Join"
   ]
  },
  {
   "cell_type": "markdown",
   "metadata": {},
   "source": [
    "Os dados de países dentro da lista \"bons\" de trabalho infantil e analfabetismo do ano de 2012 foram unidos na mesma tabela"
   ]
  },
  {
   "cell_type": "code",
   "execution_count": 45,
   "metadata": {},
   "outputs": [
    {
     "data": {
      "text/html": [
       "<div>\n",
       "<style scoped>\n",
       "    .dataframe tbody tr th:only-of-type {\n",
       "        vertical-align: middle;\n",
       "    }\n",
       "\n",
       "    .dataframe tbody tr th {\n",
       "        vertical-align: top;\n",
       "    }\n",
       "\n",
       "    .dataframe thead th {\n",
       "        text-align: right;\n",
       "    }\n",
       "</style>\n",
       "<table border=\"1\" class=\"dataframe\">\n",
       "  <thead>\n",
       "    <tr style=\"text-align: right;\">\n",
       "      <th></th>\n",
       "      <th>2012_trab_inf</th>\n",
       "      <th>2012_alfab</th>\n",
       "    </tr>\n",
       "    <tr>\n",
       "      <th>country</th>\n",
       "      <th></th>\n",
       "      <th></th>\n",
       "    </tr>\n",
       "  </thead>\n",
       "  <tbody>\n",
       "    <tr>\n",
       "      <th>Afghanistan</th>\n",
       "      <td>NaN</td>\n",
       "      <td>NaN</td>\n",
       "    </tr>\n",
       "    <tr>\n",
       "      <th>Angola</th>\n",
       "      <td>NaN</td>\n",
       "      <td>NaN</td>\n",
       "    </tr>\n",
       "    <tr>\n",
       "      <th>Argentina</th>\n",
       "      <td>5.03</td>\n",
       "      <td>0.813</td>\n",
       "    </tr>\n",
       "    <tr>\n",
       "      <th>Armenia</th>\n",
       "      <td>NaN</td>\n",
       "      <td>3.570</td>\n",
       "    </tr>\n",
       "    <tr>\n",
       "      <th>Bangladesh</th>\n",
       "      <td>NaN</td>\n",
       "      <td>NaN</td>\n",
       "    </tr>\n",
       "  </tbody>\n",
       "</table>\n",
       "</div>"
      ],
      "text/plain": [
       "             2012_trab_inf  2012_alfab\n",
       "country                               \n",
       "Afghanistan            NaN         NaN\n",
       "Angola                 NaN         NaN\n",
       "Argentina             5.03       0.813\n",
       "Armenia                NaN       3.570\n",
       "Bangladesh             NaN         NaN"
      ]
     },
     "execution_count": 45,
     "metadata": {},
     "output_type": "execute_result"
    }
   ],
   "source": [
    "tral_bom_2012 = TI_org_bons_2012.join(AF_org_bons_2012, how='inner', lsuffix='_trab_inf', rsuffix='_alfab')\n",
    "tral_bom_2012.head()"
   ]
  },
  {
   "cell_type": "code",
   "execution_count": 46,
   "metadata": {},
   "outputs": [
    {
     "data": {
      "text/plain": [
       "Text(0, 0.5, 'Analfabetismo')"
      ]
     },
     "execution_count": 46,
     "metadata": {},
     "output_type": "execute_result"
    },
    {
     "data": {
      "image/png": "[encoded data removed]",
      "text/plain": [
       "<Figure size 432x288 with 1 Axes>"
      ]
     },
     "metadata": {
      "needs_background": "light"
     },
     "output_type": "display_data"
    }
   ],
   "source": [
    "plt.scatter(tral_bom_2012[\"2012_trab_inf\"], tral_bom_2012['2012_alfab'], color='g')\n",
    "plt.title('Trabalho Infantil x Analfabetismo')\n",
    "plt.xlabel('Trabalho Infantil')\n",
    "plt.ylabel('Analfabetismo')"
   ]
  },
  {
   "cell_type": "markdown",
   "metadata": {},
   "source": [
    "**Análise:**\n",
    "As taxas em sua maioria diminuiram, tanto as de analfabetismo, quanto as de trabalho infantil"
   ]
  },
  {
   "cell_type": "code",
   "execution_count": 47,
   "metadata": {},
   "outputs": [
    {
     "data": {
      "text/html": [
       "<div>\n",
       "<style scoped>\n",
       "    .dataframe tbody tr th:only-of-type {\n",
       "        vertical-align: middle;\n",
       "    }\n",
       "\n",
       "    .dataframe tbody tr th {\n",
       "        vertical-align: top;\n",
       "    }\n",
       "\n",
       "    .dataframe thead th {\n",
       "        text-align: right;\n",
       "    }\n",
       "</style>\n",
       "<table border=\"1\" class=\"dataframe\">\n",
       "  <thead>\n",
       "    <tr style=\"text-align: right;\">\n",
       "      <th></th>\n",
       "      <th>2012_trab_inf</th>\n",
       "      <th>2012_alfab</th>\n",
       "    </tr>\n",
       "    <tr>\n",
       "      <th>country</th>\n",
       "      <th></th>\n",
       "      <th></th>\n",
       "    </tr>\n",
       "  </thead>\n",
       "  <tbody>\n",
       "    <tr>\n",
       "      <th>Albania</th>\n",
       "      <td>NaN</td>\n",
       "      <td>9.53</td>\n",
       "    </tr>\n",
       "    <tr>\n",
       "      <th>Azerbaijan</th>\n",
       "      <td>NaN</td>\n",
       "      <td>10.70</td>\n",
       "    </tr>\n",
       "    <tr>\n",
       "      <th>Benin</th>\n",
       "      <td>24.1</td>\n",
       "      <td>4.49</td>\n",
       "    </tr>\n",
       "    <tr>\n",
       "      <th>Bolivia</th>\n",
       "      <td>NaN</td>\n",
       "      <td>10.10</td>\n",
       "    </tr>\n",
       "    <tr>\n",
       "      <th>Burkina Faso</th>\n",
       "      <td>NaN</td>\n",
       "      <td>33.90</td>\n",
       "    </tr>\n",
       "  </tbody>\n",
       "</table>\n",
       "</div>"
      ],
      "text/plain": [
       "              2012_trab_inf  2012_alfab\n",
       "country                                \n",
       "Albania                 NaN        9.53\n",
       "Azerbaijan              NaN       10.70\n",
       "Benin                  24.1        4.49\n",
       "Bolivia                 NaN       10.10\n",
       "Burkina Faso            NaN       33.90"
      ]
     },
     "execution_count": 47,
     "metadata": {},
     "output_type": "execute_result"
    }
   ],
   "source": [
    "tral_ruim_2012 = TI_org_ruins_2012.join(AF_org_ruins_2012, how='inner', lsuffix='_trab_inf', rsuffix='_alfab')\n",
    "tral_ruim_2012.head()"
   ]
  },
  {
   "cell_type": "code",
   "execution_count": 48,
   "metadata": {},
   "outputs": [
    {
     "data": {
      "text/plain": [
       "Text(0, 0.5, 'Analfabetismo')"
      ]
     },
     "execution_count": 48,
     "metadata": {},
     "output_type": "execute_result"
    },
    {
     "data": {
      "image/png": "[encoded data removed]",
      "text/plain": [
       "<Figure size 432x288 with 1 Axes>"
      ]
     },
     "metadata": {
      "needs_background": "light"
     },
     "output_type": "display_data"
    }
   ],
   "source": [
    "plt.scatter(tral_ruim_2012[\"2012_trab_inf\"], tral_ruim_2012['2012_alfab'])\n",
    "plt.title('Trabalho Infantil x Analfabetismo')\n",
    "plt.xlabel('Trabalho Infantil')\n",
    "plt.ylabel('Analfabetismo')"
   ]
  },
  {
   "cell_type": "markdown",
   "metadata": {},
   "source": [
    "**Análise:**\n",
    "Os pontos mostram que que as taxas se relacionam"
   ]
  },
  {
   "cell_type": "markdown",
   "metadata": {},
   "source": [
    "Juntando os gráficos para realizar analises:"
   ]
  },
  {
   "cell_type": "markdown",
   "metadata": {},
   "source": [
    "Países bons e ruins- ano 2006:"
   ]
  },
  {
   "cell_type": "code",
   "execution_count": 49,
   "metadata": {},
   "outputs": [
    {
     "name": "stdout",
     "output_type": "stream",
     "text": [
      "Ajuste linear entre Taxa de trabalho infantil e traxa de analfabetismos:\n",
      "Coeficiente linear: 6.701013168204913\n",
      "Coeficiente angular: 0.071905026189876\n",
      "Ajuste linear entre Taxa de trabalho infantil e traxa de analfabetismos:\n",
      "Coeficiente linear: 3.32985807203222\n",
      "Coeficiente angular: 0.5211272385560249\n"
     ]
    },
    {
     "data": {
      "image/png": "[encoded data removed]",
      "text/plain": [
       "<Figure size 432x288 with 1 Axes>"
      ]
     },
     "metadata": {
      "needs_background": "light"
     },
     "output_type": "display_data"
    }
   ],
   "source": [
    "def reta_2006(dados_x, dados_y, c):    \n",
    "    a = dados_y.cov(dados_x) / dados_x.var()\n",
    "    b = dados_y.mean() - a*dados_x.mean()\n",
    "\n",
    "    print('Ajuste linear entre Taxa de trabalho infantil e traxa de analfabetismos:')\n",
    "    print('Coeficiente linear:', b)\n",
    "    print('Coeficiente angular:', a)\n",
    "    plt.scatter(dados_x, dados_y, c=c, alpha=0.8)\n",
    "    plt.title('Analfabetismo e Trabalho Infantil ano 2006')\n",
    "    plt.xlabel('Trabalho Infantil')\n",
    "    plt.ylabel('Analfabetismo')\n",
    "\n",
    "    plt.plot((dados_x.min(), dados_x.max()), (a*dados_x.min()+b, a*dados_x.max()+b), color=c)\n",
    "\n",
    "    plt.tight_layout()\n",
    "\n",
    "plt.scatter(tral_bom[\"2006_trab_inf\"], tral_bom['2006_alfab'], color='r')\n",
    "reta_2006(tral_bom[\"2006_trab_inf\"], tral_bom['2006_alfab'], 'r')\n",
    "plt.scatter(tral_ruim[\"2006_trab_inf\"], tral_ruim['2006_alfab'], color='y')\n",
    "reta_2006(tral_ruim[\"2006_trab_inf\"], tral_ruim['2006_alfab'], 'y')\n"
   ]
  },
  {
   "cell_type": "code",
   "execution_count": 50,
   "metadata": {},
   "outputs": [
    {
     "name": "stdout",
     "output_type": "stream",
     "text": [
      "Ajuste linear entre Taxa de trabalho infantil e traxa de analfabetismos:\n",
      "Coeficiente linear: 1.4654299844212773\n",
      "Coeficiente angular: 0.37788319121764624\n",
      "Ajuste linear entre Taxa de trabalho infantil e traxa de analfabetismos:\n",
      "Coeficiente linear: -0.33201146822290895\n",
      "Coeficiente angular: 0.625832689151986\n"
     ]
    },
    {
     "data": {
      "image/png": "[encoded data removed]",
      "text/plain": [
       "<Figure size 432x288 with 1 Axes>"
      ]
     },
     "metadata": {
      "needs_background": "light"
     },
     "output_type": "display_data"
    }
   ],
   "source": [
    "def reta_2012(dados_x, dados_y, c):    \n",
    "    a = dados_y.cov(dados_x) / dados_x.var()\n",
    "    b = dados_y.mean() - a*dados_x.mean()\n",
    "\n",
    "    print('Ajuste linear entre Taxa de trabalho infantil e traxa de analfabetismos:')\n",
    "    print('Coeficiente linear:', b)\n",
    "    print('Coeficiente angular:', a)\n",
    "    plt.scatter(dados_x, dados_y, c=c, alpha=0.8)\n",
    "    plt.title('Analfabetismo e Trabalho Infantil ano 2012')\n",
    "    plt.xlabel('Trabalho Infantil')\n",
    "    plt.ylabel('Analfabetismo')\n",
    "\n",
    "    plt.plot((dados_x.min(), dados_x.max()), (a*dados_x.min()+b, a*dados_x.max()+b), color=c)\n",
    "\n",
    "    plt.tight_layout()\n",
    "\n",
    "plt.scatter(tral_bom_2012[\"2012_trab_inf\"], tral_bom_2012['2012_alfab'], color='g')\n",
    "reta_2012(tral_bom_2012[\"2012_trab_inf\"], tral_bom_2012['2012_alfab'], 'g')\n",
    "plt.scatter(tral_ruim_2012[\"2012_trab_inf\"], tral_ruim_2012['2012_alfab'], color='b')\n",
    "reta_2012(tral_ruim_2012[\"2012_trab_inf\"], tral_ruim_2012['2012_alfab'], 'b')\n",
    "    \n"
   ]
  },
  {
   "cell_type": "markdown",
   "metadata": {},
   "source": [
    "# Conclusão"
   ]
  },
  {
   "cell_type": "markdown",
   "metadata": {},
   "source": [
    "A partir dos gráficos plotados nesse documento, principalmente dos dois últimos, é perceptível que a hipótese se confirma. Pois no gráfico \"Analfabetismo e Trabalho Infantil ano 2006\", mostra que a reta que tem como base os pontos de taxa de trabalho infantil por analfabetismo de países pertencentes ao grupo que tem infraestrutura para colocar em prática legislação de combate ao trabalho infantil (reta vermelha), tem como coeficiente angular um número muito pequeno, aproximadamente 0,072, e vai até um certa parte do gráfico, mostrando no eixo y a pequena porcentagem de analfabetos e no eixo x menos crianças trabalhando, ao mesmo que tempo que a reta países com baixa infraestrutura, que não conseguem tratar com eficácia o problema da exploração da mão de obra infantil (reta amarela) tem um coeficiente angula elevado, aproximadamente 0,52, e mostra sua projeção em x e pontos de valores maiores, indicando que nesses países há bastante trabalho infantil e alto índice de analfabetos. No gráfico \"Analfabetismo e Trabalho Infantil ano 2012\" os resultados são semelhantes além de as taxas terem diminuído, pois mesmo com as dificuldades que muitos países enfrentam, a Organização Internacional do Trabalho age de maneira a combater o trabalho infantil, então as porcentagens dos dados estão menores, mas o coeficientes da reta de países mais desenvolvidos é menor, aproximadamente 0,38, enquanto o de países menos desenvolvidos atinge taxas maiores com o coeficiente angular de 0,63. Assim, conclui-se que de fato há uma relação entre as taxas de analfabetismo e trabalho infantil, visto que nos dois gráficos, para ambos os grupos, quanto maior a taxa de trabalho infantil maior é a taxa de analfabetismo e onde a se combate esse problema permitindo que as crianças possam estudar e possam se alfabetizar, a taxa de pessoas que não sabem ler e escrever é ainda menor."
   ]
  },
  {
   "cell_type": "markdown",
   "metadata": {},
   "source": [
    "**Referêcias:**\n",
    "    \n",
    " https://www.ilo.org/brasilia/temas/trabalho-infantil/lang--pt/index.htm\n",
    " \n",
    " https://www.ilo.org/global/docs/WCMS_714085/lang--en/index.htm\n",
    " \n",
    " https://www.ilo.org/brasilia/temas/trabalho-infantil/WCMS_565224/lang--pt/index.htm\n",
    " \n",
    " https://www.gapminder.org/data/\n",
    " \n",
    " https://www.ilo.org/dyn/normlex/en/f?p=NORMLEXPUB:11003:0::NO:::\n",
    " \n",
    " https://www.ilo.org/wcmsp5/groups/public/---dgreports/---dcomm/documents/publication/wcms_243961.pdf\n",
    " \n",
    " "
   ]
  },
  {
   "cell_type": "code",
   "execution_count": null,
   "metadata": {},
   "outputs": [],
   "source": []
  }
 ],
 "metadata": {
  "kernelspec": {
   "display_name": "Python 3",
   "language": "python",
   "name": "python3"
  },
  "language_info": {
   "codemirror_mode": {
    "name": "ipython",
    "version": 3
   },
   "file_extension": ".py",
   "mimetype": "text/x-python",
   "name": "python",
   "nbconvert_exporter": "python",
   "pygments_lexer": "ipython3",
   "version": "3.7.1"
  }
 },
 "nbformat": 4,
 "nbformat_minor": 2
}
